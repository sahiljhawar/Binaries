{
 "cells": [
  {
   "cell_type": "code",
   "execution_count": 227,
   "metadata": {},
   "outputs": [],
   "source": [
    "import pandas as pd\n",
    "import numpy as np\n",
    "import matplotlib.pyplot as plt\n",
    "import random"
   ]
  },
  {
   "cell_type": "markdown",
   "metadata": {},
   "source": [
    "### Assuming some random values for the parameters for the binary system.\n",
    "# $\\frac{T^2}{a^3} =  \\frac{4\\pi^2}{G(m_1+m_2)}$\n",
    "# $ a = \\frac{T(v_1+v_2)}{2\\pi}$"
   ]
  },
  {
   "cell_type": "code",
   "execution_count": 229,
   "metadata": {},
   "outputs": [],
   "source": [
    "m1 = random.randint(2e+30,3e+30) #mass of star1 in kg\n",
    "m2 = random.randint(2e+30,3e+30) #mass of star2 in kg\n",
    "m=m1+m2\n",
    "t  = round(random.uniform(2,4),2) #time period of the system in years\n",
    "G  = 6.67e-11"
   ]
  },
  {
   "cell_type": "code",
   "execution_count": 269,
   "metadata": {},
   "outputs": [
    {
     "name": "stdout",
     "output_type": "stream",
     "text": [
      "Combined Velocity: 2.622790e+04 m/s\n"
     ]
    }
   ],
   "source": [
    "v=(2*np.pi*G*(m1+m2)/(t*365*24*3600))**(1/3) #combibned velocity of the system\n",
    "print(f'Combined Velocity: {v:e} m/s')"
   ]
  },
  {
   "cell_type": "code",
   "execution_count": 267,
   "metadata": {},
   "outputs": [
    {
     "name": "stdout",
     "output_type": "stream",
     "text": [
      "Total separation: 4.488948e+11 m\n"
     ]
    }
   ],
   "source": [
    "a=(v*t*365*24*3600)/(2*np.pi) #total separation of the system\n",
    "print(f'Total separation: {a:e} m')"
   ]
  },
  {
   "cell_type": "code",
   "execution_count": 268,
   "metadata": {},
   "outputs": [
    {
     "name": "stdout",
     "output_type": "stream",
     "text": [
      "Star1: 2.391406e+11 m \n",
      "\n",
      "Star2: 2.097542e+11 m \n"
     ]
    }
   ],
   "source": [
    "a1=(m2*a)/m\n",
    "a2=(m1*a)/m\n",
    "print(f'Star1: {a1:e} m \\n\\nStar2: {a2:e} m ')"
   ]
  },
  {
   "cell_type": "code",
   "execution_count": 270,
   "metadata": {},
   "outputs": [],
   "source": [
    "vr1=[]\n",
    "vr2=[]\n",
    "for i in np.linspace(1,t,1000):\n",
    "    v1=(2*np.pi*a1)/(i*24*365*3600)\n",
    "    v2=(2*np.pi*a2)/(i*24*365*3600)\n",
    "    vr1.append(v1)\n",
    "    vr2.append(v2)\n"
   ]
  },
  {
   "cell_type": "code",
   "execution_count": 271,
   "metadata": {},
   "outputs": [
    {
     "data": {
      "text/plain": [
       "[<matplotlib.lines.Line2D at 0x7f377f233090>]"
      ]
     },
     "execution_count": 271,
     "metadata": {},
     "output_type": "execute_result"
    },
    {
     "data": {
      "image/png": "[encoded data removed]",
      "text/plain": [
       "<Figure size 432x288 with 1 Axes>"
      ]
     },
     "metadata": {
      "needs_background": "light"
     },
     "output_type": "display_data"
    }
   ],
   "source": [
    "T=np.linspace(1,t,1000)\n",
    "plt.plot(vr1,T)"
   ]
  },
  {
   "cell_type": "code",
   "execution_count": null,
   "metadata": {},
   "outputs": [],
   "source": []
  }
 ],
 "metadata": {
  "kernelspec": {
   "display_name": "Python 3",
   "language": "python",
   "name": "python3"
  },
  "language_info": {
   "codemirror_mode": {
    "name": "ipython",
    "version": 3
   },
   "file_extension": ".py",
   "mimetype": "text/x-python",
   "name": "python",
   "nbconvert_exporter": "python",
   "pygments_lexer": "ipython3",
   "version": "3.7.6"
  }
 },
 "nbformat": 4,
 "nbformat_minor": 4
}
