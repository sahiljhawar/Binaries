{
 "cells": [
  {
   "cell_type": "code",
   "execution_count": 1,
   "metadata": {},
   "outputs": [],
   "source": [
    "import pandas as pd\n",
    "import numpy as np\n",
    "import matplotlib.pyplot as plt\n",
    "import random"
   ]
  },
  {
   "cell_type": "markdown",
   "metadata": {},
   "source": [
    "### Assuming some random values for the parameters for the binary system.\n",
    "# $ a= a_1+a_2$\n",
    "# $\\frac{T^2}{a^3} =  \\frac{4\\pi^2}{G(m_1+m_2)}$\n",
    "# $ a = \\frac{T(v_1+v_2)}{2\\pi}$\n",
    "# $v_{com} = \\frac{m_1v_1 + m_1v_1}{m_1+m_2}$\n",
    "# $ v_{rad_{1}} = v_1 \\sin({\\frac{2\\pi t}{T}})-v_{com}$\n",
    "# $ v_{rad_{2}} = v_2 \\sin({\\frac{2\\pi t}{T}}-\\pi)-v_{com}$"
   ]
  },
  {
   "cell_type": "code",
   "execution_count": 2,
   "metadata": {},
   "outputs": [],
   "source": [
    "m1 = random.randint(2e+30,3e+30) #mass of star1 in kg\n",
    "m2 = random.randint(2e+30,3e+30) #mass of star2 in kg\n",
    "m=m1+m2\n",
    "t  = round(random.uniform(2,4),2) #time period of the system in years\n",
    "G  = 6.67e-11"
   ]
  },
  {
   "cell_type": "code",
   "execution_count": 3,
   "metadata": {},
   "outputs": [],
   "source": [
    "v=(2*np.pi*G*(m1+m2)/(t*365*24*3600))**(1/3) #combibned orbital velocity of the system\n",
    "a=(v*t*365*24*3600)/(2*np.pi) #total separation of the system\n",
    "a1=(m2*a)/m #semi major axis of star1\n",
    "a2=(m1*a)/m #semi major axis of star2\n",
    "v1=(2*np.pi*a1)/(t*24*365*3600) #orbital velocity of star1\n",
    "v2=(2*np.pi*a2)/(t*24*365*3600) #orbital velocity of star2\n",
    "vcom=((m1*v1)+(m2*v2))/(m1+m2) #orbital velocity of center of mass"
   ]
  },
  {
   "cell_type": "code",
   "execution_count": 4,
   "metadata": {},
   "outputs": [
    {
     "name": "stdout",
     "output_type": "stream",
     "text": [
      "Combined orbital Velocity: 2.861370e+04 m/s\n",
      "Total separation: 4.653136e+11 m\n",
      "\n",
      "\n",
      "Semi major axis of Star1: 2.375780e+11 m\n",
      "Semi major axis of Star2: 2.277356e+11 m \n",
      "\n",
      "Orbital velocity of Star1: 1.460947e+04 m/s\n",
      "Orbital velocity of Star2: 1.400423e+04 m/s \n",
      "\n",
      "Orbital velocity of Center of mass: 1.430045e+04 m/s\n",
      "\n"
     ]
    }
   ],
   "source": [
    "print(f'Combined orbital Velocity: {v:e} m/s')\n",
    "print(f'Total separation: {a:e} m\\n\\n')\n",
    "print(f'Semi major axis of Star1: {a1:e} m\\nSemi major axis of Star2: {a2:e} m \\n')\n",
    "print(f'Orbital velocity of Star1: {v1:e} m/s\\nOrbital velocity of Star2: {v2:e} m/s \\n')\n",
    "print(f'Orbital velocity of Center of mass: {vcom:e} m/s\\n')"
   ]
  },
  {
   "cell_type": "code",
   "execution_count": 5,
   "metadata": {},
   "outputs": [
    {
     "data": {
      "image/png": "[encoded data removed]",
      "text/plain": [
       "<Figure size 432x288 with 1 Axes>"
      ]
     },
     "metadata": {
      "needs_background": "light"
     },
     "output_type": "display_data"
    }
   ],
   "source": [
    "rad1=[] #radial velocity of star1 wrt time\n",
    "rad2=[] #radial velocity of sta2 wrt time\n",
    "for i in np.linspace(0,t,1000):\n",
    "    vr1=v1*np.sin(2*np.pi*i/t)+vcom\n",
    "    vr2=v2*np.sin((2*np.pi*i/t)-np.pi)+vcom\n",
    "    rad1.append(vr1)\n",
    "    rad2.append(vr2)\n",
    "T=np.linspace(0,t,1000)\n",
    "plt.plot(T,rad1,'-r', label=r'$V_{orb_{1}}$')\n",
    "plt.plot(T,rad2,'-b', label=r'$V_{orb_{2}}$')\n",
    "plt.xlabel(\"Time (yrs)\")\n",
    "plt.ylabel(\"Orbital velocity (m/s)\")\n",
    "plt.legend(loc=\"lower right\",prop={'size': 18})\n",
    "plt.show()"
   ]
  },
  {
   "cell_type": "code",
   "execution_count": 6,
   "metadata": {},
   "outputs": [
    {
     "name": "stdout",
     "output_type": "stream",
     "text": [
      "Doppler Shift data CSV created\n"
     ]
    }
   ],
   "source": [
    "z1=[]\n",
    "z2=[]\n",
    "def doppler_shift():\n",
    "    for i in range(len(rad1)):\n",
    "        ds1=rad1[i]/299792458\n",
    "        ds2=rad2[i]/299792458\n",
    "        z1.append(ds1)\n",
    "        z2.append(ds2)\n",
    "        i+=1\n",
    "    np.savetxt(\"doppler_shift.csv\", np.column_stack((T.tolist(),z1,z2)),delimiter=\",\", fmt='%s')\n",
    "    return print(\"Doppler Shift data CSV created\")\n",
    "doppler_shift()"
   ]
  }
 ],
 "metadata": {
  "kernelspec": {
   "display_name": "Python 3",
   "language": "python",
   "name": "python3"
  },
  "language_info": {
   "codemirror_mode": {
    "name": "ipython",
    "version": 3
   },
   "file_extension": ".py",
   "mimetype": "text/x-python",
   "name": "python",
   "nbconvert_exporter": "python",
   "pygments_lexer": "ipython3",
   "version": "3.7.6"
  }
 },
 "nbformat": 4,
 "nbformat_minor": 4
}
